{
 "cells": [
  {
   "cell_type": "code",
   "execution_count": null,
   "metadata": {},
   "outputs": [],
   "source": [
    "import os\n",
    " \n",
    "def changeName(path, cName):\n",
    "    i = 1\n",
    "    for filename in os.listdir(path):\n",
    "        print(path+filename, '=>', path+str(cName)+str(i)+'.jpg')\n",
    "        os.rename(path+filename, path+str(cName)+str(i)+'.jpg')\n",
    "        i += 1"
   ]
  }
 ],
 "metadata": {
  "language_info": {
   "name": "python"
  }
 },
 "nbformat": 4,
 "nbformat_minor": 2
}
